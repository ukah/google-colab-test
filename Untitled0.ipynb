{
  "nbformat": 4,
  "nbformat_minor": 0,
  "metadata": {
    "colab": {
      "provenance": [],
      "authorship_tag": "ABX9TyPNaDECywB6SgVRNro4TpHX",
      "include_colab_link": true
    },
    "kernelspec": {
      "name": "python3",
      "display_name": "Python 3"
    },
    "language_info": {
      "name": "python"
    }
  },
  "cells": [
    {
      "cell_type": "markdown",
      "metadata": {
        "id": "view-in-github",
        "colab_type": "text"
      },
      "source": [
        "<a href=\"https://colab.research.google.com/github/ukah/google-colab-test/blob/main/Untitled0.ipynb\" target=\"_parent\"><img src=\"https://colab.research.google.com/assets/colab-badge.svg\" alt=\"Open In Colab\"/></a>"
      ]
    },
    {
      "cell_type": "code",
      "execution_count": 2,
      "metadata": {
        "id": "amlLB6GDSOhY",
        "colab": {
          "base_uri": "https://localhost:8080/",
          "height": 97
        },
        "outputId": "99818ea0-ed7f-417a-bb82-e6811289d717"
      },
      "outputs": [
        {
          "output_type": "execute_result",
          "data": {
            "text/plain": [
              "<PIL.PngImagePlugin.PngImageFile image mode=RGBA size=240x80 at 0x7FF41936AB10>"
            ],
            "image/png": "[encoded data removed]"
          },
          "metadata": {},
          "execution_count": 2
        }
      ],
      "source": [
        "import io\n",
        "import requests\n",
        "import PIL.Image\n",
        "\n",
        "response = requests.get(\"https://www.python.jp/logo.png\")\n",
        "PIL.Image.open(io.BytesIO(response.content))"
      ]
    },
    {
      "cell_type": "markdown",
      "source": [
        "# test\n",
        "\n",
        "あ、Markdownで記述できるのか"
      ],
      "metadata": {
        "id": "Kmmmqr45TDhb"
      }
    }
  ]
}